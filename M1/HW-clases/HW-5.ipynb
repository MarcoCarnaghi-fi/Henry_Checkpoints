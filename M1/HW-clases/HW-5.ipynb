{
 "cells": [
  {
   "cell_type": "markdown",
   "metadata": {},
   "source": [
    "# Práctica Clase 5"
   ]
  },
  {
   "cell_type": "markdown",
   "metadata": {},
   "source": [
    "1) Implementar un juego, que consista en apilar números enteros del 1 al 20, de forma aleatoria, para lo cual debe usarse una estructura de Pila. \n",
    "Luego, el usuario debe elegir un número de veces en que se va a quitar elementos de la pila, los cuales, sumados entre sí, no deben superar el valor de 50.\n",
    "El usuario pierde si la suma supera ese valor. Si no lo supera, gana, pero su calificación será 10 menos el número elementos que falten quitar para todavía no superar 50.\n",
    "El programa debe informar si perdió, y si ganó, con qué calificación lo hizo.\n",
    "\n",
    "Consideraciones:<br>\n",
    "a. Se puede usar la función input() para obtener una entrada de teclado.<br>\n",
    "b. Se puede usar la el modulo random para obtener valores aleatorios."
   ]
  },
  {
   "cell_type": "code",
   "execution_count": 17,
   "metadata": {},
   "outputs": [],
   "source": [
    "import numpy as np\n",
    "\n",
    "class JuegoPila:\n",
    "    def __init__(self):\n",
    "        # 1. Creamos Una lista vacia\n",
    "        self.lista = []\n",
    "    \n",
    "    # 2. Crear la pila\n",
    "    def crear_pila(self):\n",
    "        # creamos numeros del 1 al 20\n",
    "        self.numeros = np.arange(1,21)\n",
    "        # los mezclamos\n",
    "        np.random.shuffle(self.numeros)\n",
    "        # Los pasamos a lista\n",
    "        self.numeros = list(self.numeros)\n",
    "        # Imprimir la lista\n",
    "        print(\"La pila es:\", self.numeros)\n",
    "\n",
    "    # 3. Sumar los elementos de la lista\n",
    "    # Los elementos son la cantidad de numeros que el usuario elige sacar de la pila\n",
    "    def sumar_elementos(self, elementos):\n",
    "        # Creamos un contador para ir iterando hasta la cantidad de elementos a retirar\n",
    "        self.i = 1\n",
    "        # Iniciar la suma \n",
    "        self.suma = 0\n",
    "        # loop \n",
    "        while self.i <= elementos:\n",
    "            self.suma += self.numeros.pop()\n",
    "            self.i += 1\n",
    "        # Retornamos el puntaje obtenido\n",
    "        return self.suma\n",
    "        \n",
    "    # 4. Calcular el puntaje\n",
    "    def puntaje(self, resultado):\n",
    "        self.puntos = 10\n",
    "\n",
    "        self.sum_resultado = resultado\n",
    "\n",
    "        # Mientras la suma sea < 50, calcular cuantos numeros faltaron\n",
    "        while self.sum_resultado <=50:\n",
    "            self.sum_resultado += self.numeros.pop()\n",
    "            self.puntos -= 1\n",
    "        \n",
    "        if self.sum_resultado >50:\n",
    "            return(self.puntos + 1)\n",
    "        else:\n",
    "            return(self.puntos)\n",
    "\n",
    "    # 5. Crear el juego\n",
    "\n",
    "    def jugar(self):\n",
    "        print(\"Indique la cantidad de elementos a retirar: \")\n",
    "        self.cantidad_elementos = int(input()) # Cantidad de elementos a retirar\n",
    "\n",
    "        self.crear_pila()\n",
    "\n",
    "        print(\"Se sacaran \", self.cantidad_elementos, 'elementos de la pila')\n",
    "\n",
    "        # deminimos la variable resultado\n",
    "        self.resultado = self.sumar_elementos(self.cantidad_elementos)\n",
    "\n",
    "        if self.resultado >50:\n",
    "            print(\"Perdiste, tus numeros suman: \", self.resultado)\n",
    "        else: \n",
    "            # Calculamos el puntaje\n",
    "            print('Ganaste!!! con un resultado de: ', self.resultado, 'y un puntaje de', self.puntaje(self.resultado))"
   ]
  },
  {
   "cell_type": "code",
   "execution_count": 19,
   "metadata": {},
   "outputs": [
    {
     "name": "stdout",
     "output_type": "stream",
     "text": [
      "Indique la cantidad de elementos a retirar: \n",
      "La pila es: [4, 13, 14, 20, 18, 8, 2, 15, 1, 5, 12, 11, 9, 19, 16, 7, 17, 10, 6, 3]\n",
      "Se sacaran  4 elementos de la pila\n",
      "Ganaste!!! con un resultado de:  36 y un puntaje de 9\n"
     ]
    }
   ],
   "source": [
    "j = JuegoPila()\n",
    "j.jugar()"
   ]
  },
  {
   "cell_type": "code",
   "execution_count": 12,
   "metadata": {},
   "outputs": [
    {
     "name": "stdout",
     "output_type": "stream",
     "text": [
      "[4, 10, 20, 7, 11, 3, 5, 19, 12, 2, 14, 13, 6, 1, 16, 15, 18, 17, 9, 8]\n",
      "[4, 10, 20, 7, 11, 3, 5, 19, 12, 2, 14, 13, 6, 1, 16, 15, 18, 17, 9]\n"
     ]
    }
   ],
   "source": [
    "import numpy as np\n",
    "numeros = np.arange(1,21)\n",
    "# desordenarlos de forma aleatoria\n",
    "np.random.shuffle(numeros)\n",
    "numeros = list(numeros)\n",
    "print(numeros)\n",
    "numeros.pop()\n",
    "print(numeros)"
   ]
  },
  {
   "cell_type": "code",
   "execution_count": 13,
   "metadata": {},
   "outputs": [
    {
     "name": "stdout",
     "output_type": "stream",
     "text": [
      "Indique la cantidad de elementos a retirar: \n"
     ]
    }
   ],
   "source": [
    "print(\"Indique la cantidad de elementos a retirar: \")\n",
    "cantidad_elementos = input()"
   ]
  },
  {
   "cell_type": "code",
   "execution_count": 14,
   "metadata": {},
   "outputs": [
    {
     "data": {
      "text/plain": [
       "'3'"
      ]
     },
     "execution_count": 14,
     "metadata": {},
     "output_type": "execute_result"
    }
   ],
   "source": [
    "cantidad_elementos"
   ]
  },
  {
   "cell_type": "markdown",
   "metadata": {},
   "source": [
    "2) Implementar un juego donde constas de 2 jarras, de capacidad 5 y 3 litros respectivamente, y debes colocar 4 litros en la jarra de 5L.\n",
    "Las opciones posibles son:\n",
    "* Llenar la jarra de 3 litros\n",
    "* Llenar la jarra de 5 litros\n",
    "* Vaciar la jarra de 3 litros\n",
    "* Vaciar la jarra de 5 litros\n",
    "* Verter el contenido de la jarra de 3 litros en la de 5 litros\n",
    "* Verter el contenido de la jarra de 5 litros en la de 3 litros"
   ]
  },
  {
   "cell_type": "code",
   "execution_count": 20,
   "metadata": {},
   "outputs": [],
   "source": [
    "# crear la clase juego jarra\n",
    "class Juego_Jarra():\n",
    "    def __init__(self):\n",
    "        # cada jarra esta vacia\n",
    "        self.__jarra5 = 0\n",
    "        self.__jarra3 = 0\n",
    "\n",
    "    def llenar(self, jarra): # que jarra llenamos\n",
    "        if jarra == 3:\n",
    "            if self.__jarra3 != 0: # Si la jarra esta llena\n",
    "                print(\"La jarra de 3 lts ya está llena!\")\n",
    "            else:    # si la jarra esta vacia --> la llenamos\n",
    "                self.__jarra3 = 3\n",
    "                print(\"Jarra de 3 lts llenada.\")\n",
    "        elif jarra == 5:\n",
    "            if self.__jarra5 != 0: # Si la jarra esta llena\n",
    "                print(\"La jarra de 5 lts ya está llena!\")\n",
    "            else:\n",
    "                self.__jarra5 = 5 # si la jarra esta vacia --> la llenamos\n",
    "                print(\"Jarra de 5 lts llenada.\")\n",
    "        else:\n",
    "            # en el caso de no ingresar 3 o 5\n",
    "            print(\"Indique si quiere llenar la jarra 3 o la jarra 5 (ingrese el número)\")\n",
    "    \n",
    "    def vaciar(self,jarra):\n",
    "        if jarra == 3:\n",
    "            if self.__jarra3 == 0: # La jarra ya esta vacia\n",
    "                print(\"La jarra de 3 lts ya está vacía!\")\n",
    "            else:    \n",
    "                self.__jarra3 = 0 # le asignamos 0 a la jarra 3 porque la vaciamos\n",
    "                print(\"Jarra de 3 lts fue vaciada.\")\n",
    "        elif jarra == 5:\n",
    "            if self.__jarra5 == 0: # La jarra ya esta vacia\n",
    "                print(\"La jarra de 5 lts ya está vacía!\")\n",
    "            else:\n",
    "                self.__jarra5 = 0 # le asignamos 0 a la jarra 5 porque la vaciamos\n",
    "                print(\"Jarra de 5 lts fue vaciada.\")\n",
    "        else:\n",
    "            # en el caso de no ingresar 3 o 5\n",
    "            print(\"Indique si quiere vaciar la jarra 3 o la jarra 5 (ingrese el número)\")\n",
    "\n",
    "    def consultar(self):\n",
    "        # Imprimir el estado de las jarras --> el contenido de cada una\n",
    "        print (f\"En la jarra 3 hay {self.__jarra3} lts y en la jarra 5 hay {self.__jarra5} lts.\") \n",
    "    \n",
    "    def verter (self,jarra):\n",
    "        # queremos verter la jarra 3 en la jarra 5\n",
    "        if jarra == 3:\n",
    "            if self.__jarra5 == 0:\n",
    "                self.__jarra5 += self.__jarra3\n",
    "                self.__jarra3 = 0\n",
    "            else:\n",
    "                while (self.__jarra3 != 0 and self.__jarra5 < 5):\n",
    "                    self.__jarra5 += 1\n",
    "                    self.__jarra3 -= 1\n",
    "                    \n",
    "        # queremos verter la jarra 5 en la jarra 3\n",
    "        elif jarra == 5:\n",
    "            if self.__jarra5 == 0:\n",
    "                pass\n",
    "            else:\n",
    "                while self.__jarra5 != 0 and self.__jarra3 < 3:\n",
    "                    self.__jarra3 += 1\n",
    "                    self.__jarra5 -= 1\n",
    "        print(f\"Ahora la jarra 3 tiene {self.__jarra3} lts y la jarra 5 tiene {self.__jarra5} lts.\")"
   ]
  },
  {
   "cell_type": "code",
   "execution_count": 27,
   "metadata": {},
   "outputs": [
    {
     "name": "stdout",
     "output_type": "stream",
     "text": [
      "Jarra de 3 lts llenada.\n",
      "Ahora la jarra 3 tiene 0 lts y la jarra 5 tiene 3 lts.\n",
      "Jarra de 3 lts llenada.\n",
      "Ahora la jarra 3 tiene 1 lts y la jarra 5 tiene 5 lts.\n",
      "Jarra de 5 lts fue vaciada.\n",
      "En la jarra 3 hay 1 lts y en la jarra 5 hay 0 lts.\n",
      "Ahora la jarra 3 tiene 0 lts y la jarra 5 tiene 1 lts.\n",
      "Jarra de 3 lts llenada.\n",
      "Ahora la jarra 3 tiene 0 lts y la jarra 5 tiene 4 lts.\n"
     ]
    }
   ],
   "source": [
    "j = Juego_Jarra()\n",
    "# Llenamos la de 3 y vaciala en la de 5 litros\n",
    "j.llenar(3)\n",
    "j.verter(3)\n",
    "# Vuelve a llenar la de 3 litros. Vacíala en la de 5 litros.\n",
    "j.llenar(3)\n",
    "j.verter(3)\n",
    "# #Tira todo lo que había en la de 5 litros.\n",
    "j.vaciar(5)\n",
    "\n",
    "j.consultar()\n",
    "\n",
    "# Pasa el litro de la de 3 a la de 5 litros que ahora está vacía.\n",
    "j.verter(3)\n",
    "# Ahora vuelve a llenar la de 3 litros y anádelo al litro que había en la de 5.\n",
    "j.llenar(3)\n",
    "j.verter(3)"
   ]
  },
  {
   "cell_type": "code",
   "execution_count": null,
   "metadata": {},
   "outputs": [],
   "source": []
  },
  {
   "cell_type": "code",
   "execution_count": 28,
   "metadata": {},
   "outputs": [
    {
     "data": {
      "text/plain": [
       "[1, 2, 3, 4, 5, 6, 7, 8, 9, 10, 11, 12, 13, 14, 15, 16, 17, 18, 19, 20]"
      ]
     },
     "execution_count": 28,
     "metadata": {},
     "output_type": "execute_result"
    }
   ],
   "source": [
    "numeros = list(range(1, 21))\n",
    "numeros"
   ]
  },
  {
   "cell_type": "code",
   "execution_count": null,
   "metadata": {},
   "outputs": [],
   "source": []
  }
 ],
 "metadata": {
  "kernelspec": {
   "display_name": "Python 3",
   "language": "python",
   "name": "python3"
  },
  "language_info": {
   "codemirror_mode": {
    "name": "ipython",
    "version": 3
   },
   "file_extension": ".py",
   "mimetype": "text/x-python",
   "name": "python",
   "nbconvert_exporter": "python",
   "pygments_lexer": "ipython3",
   "version": "3.10.5"
  },
  "vscode": {
   "interpreter": {
    "hash": "4bba7e2b24ea2d6c62673c3ed642d0129ead9d4c378b0ce2fb07275f742d82ac"
   }
  }
 },
 "nbformat": 4,
 "nbformat_minor": 4
}
