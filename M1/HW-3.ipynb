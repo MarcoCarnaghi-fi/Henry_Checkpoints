{
 "cells": [
  {
   "cell_type": "markdown",
   "metadata": {},
   "source": [
    "# Práctica Clase 3"
   ]
  },
  {
   "cell_type": "markdown",
   "metadata": {
    "slideshow": {
     "slide_type": "slide"
    }
   },
   "source": [
    "## Numpy"
   ]
  },
  {
   "cell_type": "code",
   "execution_count": 109,
   "metadata": {},
   "outputs": [],
   "source": [
    "import numpy as np"
   ]
  },
  {
   "cell_type": "markdown",
   "metadata": {},
   "source": [
    "**Ejercicio 1**: Responder las siguientes preguntas:\n",
    "* ¿Qué operaciones se pueden hacer tanto en un arreglo de Numpy como en una lista? Dar un ejemplo en una celda.\n",
    "* ¿Qué operaciones se pueden hacer en un arreglo de Numpy pero NO en una lista? Explorar algunas opciones y dar un ejemplo en una celda.\n",
    "* ¿Cuál es la diferencia entre un arreglo de forma -shape- (n,), (n,1) y (1,n)? Pueden crear arreglos para intentar responder esa pregunta."
   ]
  },
  {
   "cell_type": "code",
   "execution_count": 110,
   "metadata": {},
   "outputs": [],
   "source": [
    "a = np.array([0, 1, 2, 3, 4, 5, 6, 7, 8, 9])\n",
    "b = np.arange(10)\n",
    "\n",
    "#Operaciones tanto en array de Numpy como en listas u operaciones que NO\n",
    "#Suma, resta, multiplicacion, potencias: SI\n",
    "#a + b\n",
    "#a - b\n",
    "#a * 2\n",
    "#a ** 2\n",
    "\n",
    "#Copiar array: SI\n",
    "c = a.copy()\n",
    "#c\n",
    "\n",
    "#Suma de todos los elementos\n",
    "a.sum()\n",
    "\n",
    "#Agregar elementos: NO\n",
    "d = np.arange(20)"
   ]
  },
  {
   "cell_type": "markdown",
   "metadata": {},
   "source": [
    "**Ejercicio 2**:\n",
    "* Escribir un arreglo con números enteros del 0 al 9. Pista: arange\n",
    "* Escribir un arreglo con 100 números equiespaciados del 0 al 9. Pista: linspace"
   ]
  },
  {
   "cell_type": "code",
   "execution_count": 111,
   "metadata": {},
   "outputs": [],
   "source": [
    "arr1 = np.arange(10)\n",
    "#arr1\n",
    "arr2 = np.linspace(0, 9, 100)\n",
    "#arr2"
   ]
  },
  {
   "attachments": {},
   "cell_type": "markdown",
   "metadata": {},
   "source": [
    "a**Ejercicio 3**:\n",
    "* Escribir un arreglo con números enteros del 10 al 100 y seleccionar aquellos que son divisibles por 3<br>\n",
    "Pista: mask"
   ]
  },
  {
   "cell_type": "code",
   "execution_count": 112,
   "metadata": {},
   "outputs": [
    {
     "data": {
      "text/plain": [
       "array([12, 15, 18, 21, 24, 27, 30, 33, 36, 39, 42, 45, 48, 51, 54, 57, 60,\n",
       "       63, 66, 69, 72, 75, 78, 81, 84, 87, 90, 93, 96, 99])"
      ]
     },
     "execution_count": 112,
     "metadata": {},
     "output_type": "execute_result"
    }
   ],
   "source": [
    "arr3 = np.arange(10, 101)\n",
    "arr3[arr3 % 3 == 0]"
   ]
  },
  {
   "cell_type": "markdown",
   "metadata": {},
   "source": [
    "**Ejercicio 4**:\n",
    "* Crear un arreglo de ceros de `shape` (5,10).\n",
    "* Reemplazar la segunda y cuarta fila con unos\n",
    "* Reemplazar la tercera y octava columna con dos (2)."
   ]
  },
  {
   "cell_type": "markdown",
   "metadata": {},
   "source": [
    "**Ejercicio $\\infty$**:\n",
    "Hacer todos los ejercicios que puedan del siguiente link https://www.machinelearningplus.com/python/101-numpy-exercises-python/\n",
    "\n",
    "O de https://github.com/rougier/numpy-100"
   ]
  },
  {
   "cell_type": "code",
   "execution_count": 113,
   "metadata": {},
   "outputs": [
    {
     "name": "stdout",
     "output_type": "stream",
     "text": [
      "Ej 1\n",
      "1.23.5\n",
      "\n",
      "\n",
      "Ej 2\n",
      "[0 1 2 3 4 5 6 7 8 9]\n",
      "\n",
      "\n",
      "Ej 3\n",
      "[[ True  True  True]\n",
      " [ True  True  True]\n",
      " [ True  True  True]]\n",
      "\n",
      "\n",
      "Ej 4\n",
      "[1 3 5 7 9]\n",
      "\n",
      "\n",
      "Ej 5\n",
      "[ 0 -1  2 -1  4 -1  6 -1  8 -1]\n",
      "\n",
      "\n"
     ]
    }
   ],
   "source": [
    "print(\"Ej 1\")\n",
    "\n",
    "#Ej 1\n",
    "print(np.__version__)\n",
    "print(\"\\n\")\n",
    "\n",
    "print(\"Ej 2\")\n",
    "#Ej 2\n",
    "print(np.arange(10))\n",
    "print(\"\\n\")\n",
    "\n",
    "print(\"Ej 3\")\n",
    "#Ej 3\n",
    "print(np.full((3,3), True, dtype = bool))\n",
    "print(\"\\n\")\n",
    "\n",
    "print(\"Ej 4\")\n",
    "#Ej 4\n",
    "print(arr1[arr1 % 2 == 1])\n",
    "print(\"\\n\")\n",
    "\n",
    "print(\"Ej 5\")\n",
    "#Ej 5\n",
    "arr1[arr1 % 2 == 1] = -1 #-1 en los impares\n",
    "print(arr1)\n",
    "print(\"\\n\")"
   ]
  },
  {
   "cell_type": "code",
   "execution_count": 114,
   "metadata": {},
   "outputs": [
    {
     "name": "stdout",
     "output_type": "stream",
     "text": [
      "Ej 6\n",
      "Original: [0 1 2 3 4 5 6 7 8 9]. Modificado: [ 0 -1  2 -1  4 -1  6 -1  8 -1]\n",
      "\n",
      "\n",
      "Ej 7\n",
      "[[0 1 2 3 4]\n",
      " [5 6 7 8 9]]\n",
      "\n",
      "\n",
      "Ej 8\n",
      "[[0 1 2 3 4]\n",
      " [5 6 7 8 9]\n",
      " [1 1 1 1 1]\n",
      " [1 1 1 1 1]]\n",
      "\n",
      "\n",
      "Ej 9\n",
      "[[0 1 2 3 4 1 1 1 1 1]\n",
      " [5 6 7 8 9 1 1 1 1 1]]\n",
      "\n",
      "\n",
      "Ej 10\n"
     ]
    },
    {
     "data": {
      "text/plain": [
       "array([1, 1, 1, 2, 2, 2, 3, 3, 3, 1, 2, 3, 1, 2, 3, 1, 2, 3])"
      ]
     },
     "execution_count": 114,
     "metadata": {},
     "output_type": "execute_result"
    }
   ],
   "source": [
    "\n",
    "print(\"Ej 6\")\n",
    "#Ej 6\n",
    "arr4 = np.arange(10)\n",
    "out = np.where(arr4 % 2 == 1, -1, arr4)\n",
    "print(f\"Original: {arr4}. Modificado: {out}\")\n",
    "\n",
    "print(\"\\n\")\n",
    "print(\"Ej 7\")\n",
    "#Ej 7\n",
    "print(arr4.reshape((2,-1)))\n",
    "print(\"\\n\")\n",
    "\n",
    "print(\"Ej 8\")\n",
    "#Ej 8\n",
    "a = np.arange(10).reshape(2,-1)\n",
    "b = np.repeat(1, 10).reshape(2,-1)\n",
    "print(np.concatenate([a,b], axis = 0))\n",
    "print(\"\\n\")\n",
    "\n",
    "print(\"Ej 9\")\n",
    "#Ej 9\n",
    "print(np.concatenate([a,b], axis = 1))\n",
    "print(\"\\n\")\n",
    "\n",
    "print(\"Ej 10\")\n",
    "#Ej 10\n",
    "a = np.array([1,2,3])\n",
    "np.r_[np.repeat(a, 3), np.tile(a, 3)]"
   ]
  },
  {
   "cell_type": "markdown",
   "metadata": {},
   "source": [
    "Para explorar las funciones de creación de datos aleatorios:\n",
    "https://numpy.org/doc/stable/reference/random/legacy.html"
   ]
  }
 ],
 "metadata": {
  "kernelspec": {
   "display_name": "Python 3",
   "language": "python",
   "name": "python3"
  },
  "language_info": {
   "codemirror_mode": {
    "name": "ipython",
    "version": 3
   },
   "file_extension": ".py",
   "mimetype": "text/x-python",
   "name": "python",
   "nbconvert_exporter": "python",
   "pygments_lexer": "ipython3",
   "version": "3.10.1"
  },
  "vscode": {
   "interpreter": {
    "hash": "dde125affa51238aa7fe2b45bb5903404e075b970f453e9f914c922b9fc7c42a"
   }
  }
 },
 "nbformat": 4,
 "nbformat_minor": 4
}
