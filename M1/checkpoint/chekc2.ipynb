{
 "cells": [
  {
   "cell_type": "code",
   "execution_count": 10,
   "metadata": {},
   "outputs": [],
   "source": [
    "import pandas as pd\n",
    "import numpy as np"
   ]
  },
  {
   "cell_type": "code",
   "execution_count": 23,
   "metadata": {},
   "outputs": [],
   "source": [
    "def Ret_Pregunta01():\n",
    "    '''\n",
    "    Debes utilizar Pandas para ingestar en un objeto Dataframe el contenido del archivo provisto\n",
    "    \"Fuentes_Consumo_Energia.csv\".\n",
    "    Esta funcion debe informar la cantidad de registros cuya entidad sean Colombia o Mexico retornando ese valor en un dato\n",
    "    tupla (Colombia, Mexico).\n",
    "    Pista averiguar la funcion Shape\n",
    "    '''\n",
    "    #Tu codigo aca:\n",
    "    df = pd.read_csv(\"./datasets/Fuentes_Consumo_Energia.csv\")\n",
    "    colombia = df[df[\"Entity\"] == \"Colombia\"].shape\n",
    "    print(colombia)\n",
    "    mexico = df[df[\"Entity\"] == \"Mexico\"].shape #Traemos (filas, columnas)\n",
    "    print(mexico)\n",
    "    tupla = (colombia[0], mexico[0])\n",
    "    return tupla"
   ]
  },
  {
   "cell_type": "code",
   "execution_count": 41,
   "metadata": {},
   "outputs": [
    {
     "data": {
      "text/plain": [
       "(5190, 11)"
      ]
     },
     "execution_count": 41,
     "metadata": {},
     "output_type": "execute_result"
    }
   ],
   "source": [
    "df = pd.read_csv(\"./datasets/Fuentes_Consumo_Energia.csv\")\n",
    "df.shape"
   ]
  },
  {
   "cell_type": "code",
   "execution_count": 24,
   "metadata": {},
   "outputs": [
    {
     "name": "stdout",
     "output_type": "stream",
     "text": [
      "(55, 11)\n",
      "(55, 11)\n",
      "(55, 55)\n"
     ]
    }
   ],
   "source": [
    "print(Ret_Pregunta01())"
   ]
  },
  {
   "cell_type": "code",
   "execution_count": 33,
   "metadata": {},
   "outputs": [
    {
     "data": {
      "text/html": [
       "<div>\n",
       "<style scoped>\n",
       "    .dataframe tbody tr th:only-of-type {\n",
       "        vertical-align: middle;\n",
       "    }\n",
       "\n",
       "    .dataframe tbody tr th {\n",
       "        vertical-align: top;\n",
       "    }\n",
       "\n",
       "    .dataframe thead th {\n",
       "        text-align: right;\n",
       "    }\n",
       "</style>\n",
       "<table border=\"1\" class=\"dataframe\">\n",
       "  <thead>\n",
       "    <tr style=\"text-align: right;\">\n",
       "      <th></th>\n",
       "      <th>Year</th>\n",
       "      <th>Coal_Consumption_EJ</th>\n",
       "      <th>Gas_Consumption_EJ</th>\n",
       "      <th>Geo_Biomass_Other_TWh</th>\n",
       "      <th>Hydro_Generation_TWh</th>\n",
       "      <th>Nuclear_Generation_TWh</th>\n",
       "      <th>Solar_Generation_TWh</th>\n",
       "      <th>Wind_Generation_TWh</th>\n",
       "      <th>Oil_Consumption_EJ</th>\n",
       "    </tr>\n",
       "  </thead>\n",
       "  <tbody>\n",
       "    <tr>\n",
       "      <th>0</th>\n",
       "      <td>1965</td>\n",
       "      <td>1.164586</td>\n",
       "      <td>0.034358</td>\n",
       "      <td>0.000000</td>\n",
       "      <td>13.905635</td>\n",
       "      <td>0.000000</td>\n",
       "      <td>0.000000</td>\n",
       "      <td>0.000000</td>\n",
       "      <td>1.173241</td>\n",
       "    </tr>\n",
       "    <tr>\n",
       "      <th>1</th>\n",
       "      <td>1966</td>\n",
       "      <td>1.163240</td>\n",
       "      <td>0.038412</td>\n",
       "      <td>0.000000</td>\n",
       "      <td>15.510004</td>\n",
       "      <td>0.000000</td>\n",
       "      <td>0.000000</td>\n",
       "      <td>0.000000</td>\n",
       "      <td>1.284154</td>\n",
       "    </tr>\n",
       "    <tr>\n",
       "      <th>2</th>\n",
       "      <td>1967</td>\n",
       "      <td>1.189050</td>\n",
       "      <td>0.037964</td>\n",
       "      <td>0.000000</td>\n",
       "      <td>16.190636</td>\n",
       "      <td>0.000000</td>\n",
       "      <td>0.000000</td>\n",
       "      <td>0.000000</td>\n",
       "      <td>1.273799</td>\n",
       "    </tr>\n",
       "    <tr>\n",
       "      <th>3</th>\n",
       "      <td>1968</td>\n",
       "      <td>1.236646</td>\n",
       "      <td>0.038480</td>\n",
       "      <td>0.000000</td>\n",
       "      <td>18.938341</td>\n",
       "      <td>0.000000</td>\n",
       "      <td>0.000000</td>\n",
       "      <td>0.000000</td>\n",
       "      <td>1.344219</td>\n",
       "    </tr>\n",
       "    <tr>\n",
       "      <th>4</th>\n",
       "      <td>1969</td>\n",
       "      <td>1.247915</td>\n",
       "      <td>0.044971</td>\n",
       "      <td>0.000000</td>\n",
       "      <td>22.100890</td>\n",
       "      <td>0.000000</td>\n",
       "      <td>0.000000</td>\n",
       "      <td>0.000000</td>\n",
       "      <td>1.362729</td>\n",
       "    </tr>\n",
       "    <tr>\n",
       "      <th>...</th>\n",
       "      <td>...</td>\n",
       "      <td>...</td>\n",
       "      <td>...</td>\n",
       "      <td>...</td>\n",
       "      <td>...</td>\n",
       "      <td>...</td>\n",
       "      <td>...</td>\n",
       "      <td>...</td>\n",
       "      <td>...</td>\n",
       "    </tr>\n",
       "    <tr>\n",
       "      <th>5185</th>\n",
       "      <td>2015</td>\n",
       "      <td>157.838896</td>\n",
       "      <td>125.208335</td>\n",
       "      <td>538.277477</td>\n",
       "      <td>3884.619692</td>\n",
       "      <td>2575.763561</td>\n",
       "      <td>256.838045</td>\n",
       "      <td>831.567439</td>\n",
       "      <td>183.210968</td>\n",
       "    </tr>\n",
       "    <tr>\n",
       "      <th>5186</th>\n",
       "      <td>2016</td>\n",
       "      <td>155.504177</td>\n",
       "      <td>128.124027</td>\n",
       "      <td>547.865908</td>\n",
       "      <td>4012.947981</td>\n",
       "      <td>2614.905286</td>\n",
       "      <td>328.237428</td>\n",
       "      <td>963.774036</td>\n",
       "      <td>186.912413</td>\n",
       "    </tr>\n",
       "    <tr>\n",
       "      <th>5187</th>\n",
       "      <td>2017</td>\n",
       "      <td>156.094106</td>\n",
       "      <td>131.708206</td>\n",
       "      <td>582.893132</td>\n",
       "      <td>4065.869592</td>\n",
       "      <td>2638.554157</td>\n",
       "      <td>446.946764</td>\n",
       "      <td>1140.971268</td>\n",
       "      <td>189.242920</td>\n",
       "    </tr>\n",
       "    <tr>\n",
       "      <th>5188</th>\n",
       "      <td>2018</td>\n",
       "      <td>158.793935</td>\n",
       "      <td>138.659832</td>\n",
       "      <td>615.038237</td>\n",
       "      <td>4171.404951</td>\n",
       "      <td>2700.373917</td>\n",
       "      <td>582.754345</td>\n",
       "      <td>1270.164880</td>\n",
       "      <td>191.451896</td>\n",
       "    </tr>\n",
       "    <tr>\n",
       "      <th>5189</th>\n",
       "      <td>2019</td>\n",
       "      <td>157.857047</td>\n",
       "      <td>141.452770</td>\n",
       "      <td>651.811211</td>\n",
       "      <td>4222.214992</td>\n",
       "      <td>2795.961529</td>\n",
       "      <td>724.086506</td>\n",
       "      <td>1429.619982</td>\n",
       "      <td>193.031574</td>\n",
       "    </tr>\n",
       "  </tbody>\n",
       "</table>\n",
       "<p>5190 rows × 9 columns</p>\n",
       "</div>"
      ],
      "text/plain": [
       "      Year  Coal_Consumption_EJ  Gas_Consumption_EJ  Geo_Biomass_Other_TWh  \\\n",
       "0     1965             1.164586            0.034358               0.000000   \n",
       "1     1966             1.163240            0.038412               0.000000   \n",
       "2     1967             1.189050            0.037964               0.000000   \n",
       "3     1968             1.236646            0.038480               0.000000   \n",
       "4     1969             1.247915            0.044971               0.000000   \n",
       "...    ...                  ...                 ...                    ...   \n",
       "5185  2015           157.838896          125.208335             538.277477   \n",
       "5186  2016           155.504177          128.124027             547.865908   \n",
       "5187  2017           156.094106          131.708206             582.893132   \n",
       "5188  2018           158.793935          138.659832             615.038237   \n",
       "5189  2019           157.857047          141.452770             651.811211   \n",
       "\n",
       "      Hydro_Generation_TWh  Nuclear_Generation_TWh  Solar_Generation_TWh  \\\n",
       "0                13.905635                0.000000              0.000000   \n",
       "1                15.510004                0.000000              0.000000   \n",
       "2                16.190636                0.000000              0.000000   \n",
       "3                18.938341                0.000000              0.000000   \n",
       "4                22.100890                0.000000              0.000000   \n",
       "...                    ...                     ...                   ...   \n",
       "5185           3884.619692             2575.763561            256.838045   \n",
       "5186           4012.947981             2614.905286            328.237428   \n",
       "5187           4065.869592             2638.554157            446.946764   \n",
       "5188           4171.404951             2700.373917            582.754345   \n",
       "5189           4222.214992             2795.961529            724.086506   \n",
       "\n",
       "      Wind_Generation_TWh  Oil_Consumption_EJ  \n",
       "0                0.000000            1.173241  \n",
       "1                0.000000            1.284154  \n",
       "2                0.000000            1.273799  \n",
       "3                0.000000            1.344219  \n",
       "4                0.000000            1.362729  \n",
       "...                   ...                 ...  \n",
       "5185           831.567439          183.210968  \n",
       "5186           963.774036          186.912413  \n",
       "5187          1140.971268          189.242920  \n",
       "5188          1270.164880          191.451896  \n",
       "5189          1429.619982          193.031574  \n",
       "\n",
       "[5190 rows x 9 columns]"
      ]
     },
     "execution_count": 33,
     "metadata": {},
     "output_type": "execute_result"
    }
   ],
   "source": [
    "df = pd.read_csv(\"./datasets/Fuentes_Consumo_Energia.csv\")\n",
    "df = df.iloc[:,2:]\n",
    "df"
   ]
  },
  {
   "cell_type": "code",
   "execution_count": 30,
   "metadata": {},
   "outputs": [],
   "source": [
    "def Ret_Pregunta02():\n",
    "    '''\n",
    "    Debes utilizar Pandas para ingestar en un objeto Dataframe el contenido del archivo provisto\n",
    "    \"Fuentes_Consumo_Energia.csv\".\n",
    "    Esta funci�n debe eliminar las columnas 'Code' y 'Entity' y luego informar la cantidad de columnas\n",
    "    retornando ese valor en un dato de tipo entero.\n",
    "    '''\n",
    "    #Tu c�digo aca:\n",
    "    df = pd.read_csv(\"./datasets/Fuentes_Consumo_Energia.csv\")\n",
    "    df.drop(['Code','Entity'], axis= 1, inplace = True)\n",
    "    #print(df.head(1))\n",
    "    \n",
    "    return df.shape[1]"
   ]
  },
  {
   "cell_type": "code",
   "execution_count": 31,
   "metadata": {},
   "outputs": [
    {
     "name": "stdout",
     "output_type": "stream",
     "text": [
      "   Year  Coal_Consumption_EJ  Gas_Consumption_EJ  Geo_Biomass_Other_TWh  \\\n",
      "0  1965             1.164586            0.034358                    0.0   \n",
      "\n",
      "   Hydro_Generation_TWh  Nuclear_Generation_TWh  Solar_Generation_TWh  \\\n",
      "0             13.905635                     0.0                   0.0   \n",
      "\n",
      "   Wind_Generation_TWh  Oil_Consumption_EJ  \n",
      "0                  0.0            1.173241  \n"
     ]
    },
    {
     "data": {
      "text/plain": [
       "9"
      ]
     },
     "execution_count": 31,
     "metadata": {},
     "output_type": "execute_result"
    }
   ],
   "source": [
    "Ret_Pregunta02()"
   ]
  },
  {
   "cell_type": "code",
   "execution_count": 45,
   "metadata": {},
   "outputs": [],
   "source": [
    "def Ret_Pregunta03():\n",
    "    '''\n",
    "    Debes utilizar Pandas para ingestar en un objeto Dataframe el contenido del archivo provisto\n",
    "    \"Fuentes_Consumo_Energia.csv\".\n",
    "    Esta funcion debe informar la cantidad de registros de la columna Year sin tener en cuenta aquellos con valores faltantes\n",
    "    retornando ese valor en un dato de tipo entero.\n",
    "    '''\n",
    "    df = pd.read_csv(\"./datasets/Fuentes_Consumo_Energia.csv\")\n",
    "\n",
    "    df.dropna()\n",
    "    df1 = df['Year'].shape[0]\n",
    "    return df1"
   ]
  },
  {
   "cell_type": "code",
   "execution_count": 46,
   "metadata": {},
   "outputs": [
    {
     "data": {
      "text/plain": [
       "5190"
      ]
     },
     "execution_count": 46,
     "metadata": {},
     "output_type": "execute_result"
    }
   ],
   "source": [
    "Ret_Pregunta03()"
   ]
  },
  {
   "cell_type": "code",
   "execution_count": 67,
   "metadata": {},
   "outputs": [],
   "source": [
    "def Ret_Pregunta04():\n",
    "    '''\n",
    "    Debes utilizar Pandas para ingestar en un objeto Dataframe el contenido del archivo provisto\n",
    "    \"Fuentes_Consumo_Energia.csv\".\n",
    "    El ExaJulio es una unidad diferentes al TWh, es decir, no tiene sentido sumarlos o\n",
    "    buscar proporciones entre ellos, la formula de conversion es:\n",
    "    277.778 Teravatios/Hora (TWh) = 1 Exajulio\n",
    "    Los campos terminados en \"_EJ\" corresponden a mediciones en Exajulios,\n",
    "    y los terminados en \"_TWh\" corresponden a Teravatios/Hora.\n",
    "    La consigna es crear un nuevo campo, que se denomine \"Consumo_Total\"\n",
    "    y que guarde la sumatoria de todos los consumos expresados en Teravatios/Hora\n",
    "    (convirtiendo a esta medida los que estan en Exajulios)\n",
    "    Esta funcion debe informar el consumo total para la entidad 'World' y año '2019',\n",
    "    redondeado a 2 decimales, retornando ese valor en un dato de tipo float.\n",
    "    '''\n",
    "    #Tu codigo aca:\n",
    "    df = pd.read_csv(\"./datasets/Fuentes_Consumo_Energia.csv\")\n",
    "\n",
    "    df[\"Consumo_Total\"] = ((df[\"Coal_Consumption_EJ\"] + df[\"Gas_Consumption_EJ\"] + df[\"Oil_Consumption_EJ\"]) * 277.778 + df[\"Geo_Biomass_Other_TWh\"] + df[\"Wind_Generation_TWh\"] + df[\"Hydro_Generation_TWh\"] + df[\"Solar_Generation_TWh\"] + df[\"Nuclear_Generation_TWh\"])\n",
    "\n",
    "    df = df[(df[\"Entity\"] == \"World\") & (df[\"Year\"] == 2019)]\n",
    "\n",
    "    return round(float(df['Consumo_Total']), 2)"
   ]
  },
  {
   "cell_type": "code",
   "execution_count": 68,
   "metadata": {},
   "outputs": [
    {
     "data": {
      "text/plain": [
       "146585.3"
      ]
     },
     "execution_count": 68,
     "metadata": {},
     "output_type": "execute_result"
    }
   ],
   "source": [
    "Ret_Pregunta04()"
   ]
  },
  {
   "cell_type": "code",
   "execution_count": 83,
   "metadata": {},
   "outputs": [],
   "source": [
    "def Ret_Pregunta05():\n",
    "    '''\n",
    "    Debes utilizar Pandas para ingestar en un objeto Dataframe el contenido del archivo provisto\n",
    "    \"Fuentes_Consumo_Energia.csv\".\n",
    "    Esta funcion debe informar el año de mayor generacion de energia hidrica (Hydro_Generation_TWh)\n",
    "    para la entidad 'Europe' retornando ese valor en un dato de tipo entero.\n",
    "    '''\n",
    "    #Tu c�digo aca:\n",
    "    df = pd.read_csv(\"./datasets/Fuentes_Consumo_Energia.csv\")\n",
    "    df = df[df[\"Entity\"] == \"Europe\"]\n",
    "    indice = df[\"Hydro_Generation_TWh\"].idxmax()\n",
    "    #print(indice)\n",
    "\n",
    "    return df[\"Year\"][indice]"
   ]
  },
  {
   "cell_type": "code",
   "execution_count": 84,
   "metadata": {},
   "outputs": [
    {
     "name": "stdout",
     "output_type": "stream",
     "text": [
      "1393\n"
     ]
    },
    {
     "data": {
      "text/plain": [
       "2013"
      ]
     },
     "execution_count": 84,
     "metadata": {},
     "output_type": "execute_result"
    }
   ],
   "source": [
    "Ret_Pregunta05()"
   ]
  },
  {
   "cell_type": "code",
   "execution_count": 89,
   "metadata": {},
   "outputs": [],
   "source": [
    "def Ret_Pregunta06(m1, m2, m3):\n",
    "    '''\n",
    "    Esta funci�n recibe tres array de Numpy de 2 dimensiones cada uno, y devuelve el valor booleano\n",
    "    True si es posible realizar una multiplicaci�n entre las tres matrices (n1 x n2 x n3),\n",
    "    y el valor booleano False si no lo es\n",
    "    Ej:\n",
    "        n1 = np.array([[0,0,0],[1,1,1],[2,2,2]])\n",
    "        n2 = np.array([[3,3],[4,4],[5,5]])\n",
    "        n3 = np.array([1,1],[2,2])\n",
    "        print(Ret_Pregunta06(n1,n2,n3))\n",
    "            True            -> Valor devuelto por la funci�n en este ejemplo\n",
    "        print(Ret_Pregunta06(n2,n1,n3))\n",
    "            False            -> Valor devuelto por la funci�n en este ejemplo\n",
    "    '''\n",
    "    #Tu c�digo aca:\n",
    "    if (m1.shape[1] == m2.shape[0]): #columnas de 1 x fila de 2\n",
    "        if (np.dot(m1, m2).shape[1] == m3.shape[0]): #np.dot multip m1 y m2, y veo si sus col = fil de m3\n",
    "            return True\n",
    "\n",
    "    return False"
   ]
  },
  {
   "cell_type": "code",
   "execution_count": 90,
   "metadata": {},
   "outputs": [
    {
     "data": {
      "text/plain": [
       "True"
      ]
     },
     "execution_count": 90,
     "metadata": {},
     "output_type": "execute_result"
    }
   ],
   "source": [
    "n1 = np.array([[0,0,0],[1,1,1],[2,2,2],[3,3,3],[4,4,4],[5,5,5]])\n",
    "n2 = np.array([[6,7],[8,6],[7,8]])\n",
    "n3 = np.array([[9,9],[10,10]])\n",
    "Ret_Pregunta06(n1, n2, n3)"
   ]
  },
  {
   "cell_type": "code",
   "execution_count": 104,
   "metadata": {},
   "outputs": [],
   "source": [
    "def Ret_Pregunta07():\n",
    "    '''\n",
    "    Debes utilizar Pandas para ingestar en un objeto Dataframe el contenido del archivo provisto\n",
    "    \"Fuentes_Consumo_Energia.csv\".\n",
    "    Esta funci�n debe informar cu�l de la siguiente lista de pa�ses tuvo mayor generac�on de\n",
    "    energ�a h�drica (Hydro_Generation_TWh) en el a�o 2019:\n",
    "        * Argentina\n",
    "        * Brazil\n",
    "        * Chile\n",
    "        * Colombia\n",
    "        * Ecuador\n",
    "        * Mexico\n",
    "        * Peru\n",
    "    Debe retornar el valor en un dato de tipo string.\n",
    "    '''\n",
    "    #Tu c�digo aca:\n",
    "    df = pd.read_csv(\"./datasets/Fuentes_Consumo_Energia.csv\")\n",
    "    paises = [\"Argentina\", \"Brazil\", \"Chile\", \"Colombia\", \"Ecuador\", \"Mexico\", \"Peru\"]\n",
    "    df = df[(df[\"Entity\"].isin(paises)) & (df[\"Year\"] == 2019)]\n",
    "    indice = df[\"Hydro_Generation_TWh\"].idxmax()\n",
    "    #print(indice)\n",
    "\n",
    "    return df[\"Entity\"][indice]"
   ]
  },
  {
   "cell_type": "code",
   "execution_count": 105,
   "metadata": {},
   "outputs": [
    {
     "name": "stdout",
     "output_type": "stream",
     "text": [
      "564\n"
     ]
    },
    {
     "data": {
      "text/plain": [
       "'Brazil'"
      ]
     },
     "execution_count": 105,
     "metadata": {},
     "output_type": "execute_result"
    }
   ],
   "source": [
    "Ret_Pregunta07()"
   ]
  },
  {
   "cell_type": "code",
   "execution_count": 115,
   "metadata": {},
   "outputs": [],
   "source": [
    "def Ret_Pregunta08():\n",
    "    '''\n",
    "    Debes utilizar Pandas para ingestar en un objeto Dataframe el contenido del archivo provisto\n",
    "    \"Fuentes_Consumo_Energia.csv\".\n",
    "    Esta funci�n debe informar la cantidad de entidades diferentes que est�n presentes en el dataset\n",
    "    retornando ese valor en un dato de tipo entero.\n",
    "    '''\n",
    "    #Tu c�digo aca:\n",
    "    df = pd.read_csv(\"./datasets/Fuentes_Consumo_Energia.csv\")\n",
    "\n",
    "    return df[\"Entity\"].nunique()"
   ]
  },
  {
   "cell_type": "code",
   "execution_count": 116,
   "metadata": {},
   "outputs": [
    {
     "data": {
      "text/plain": [
       "100"
      ]
     },
     "execution_count": 116,
     "metadata": {},
     "output_type": "execute_result"
    }
   ],
   "source": [
    "Ret_Pregunta08()"
   ]
  },
  {
   "cell_type": "code",
   "execution_count": 132,
   "metadata": {},
   "outputs": [],
   "source": [
    "def Ret_Pregunta09():\n",
    "    '''\n",
    "    Debes utilizar Pandas para ingestar en un objeto Dataframe el contenido del archivo provisto\n",
    "    \"datasets/Tabla1_ejercicio.csv\" y \"datasets/Tabla2_ejercicio.csv\".\n",
    "    Esta funci�n debe informar: score_promedio_femenino y score_promedio_masculino en formato tupla\n",
    "    '''\n",
    "    #Tu c�digo aca:\n",
    "    tabla1 = pd.read_csv(\"./datasets/Tabla1_ejercicio.csv\", sep = \";\")\n",
    "    tabla2 = pd.read_csv(\"./datasets/Tabla2_ejercicio.csv\", sep = \";\")\n",
    "    tabla_gral = pd.merge(tabla1, tabla2, on = \"pers_id\").drop_duplicates()\n",
    "\n",
    "    score_promedio_femenino = tabla_gral[tabla_gral[\"sexo\"] == \"F\"][\"score\"].mean()\n",
    "    score_promedio_masculino = tabla_gral[tabla_gral[\"sexo\"] == \"M\"][\"score\"].mean()\n",
    "\n",
    "    return (round(score_promedio_femenino, 2), round(score_promedio_masculino, 2))"
   ]
  },
  {
   "cell_type": "code",
   "execution_count": 133,
   "metadata": {},
   "outputs": [
    {
     "data": {
      "text/plain": [
       "(630.26, 772.28)"
      ]
     },
     "execution_count": 133,
     "metadata": {},
     "output_type": "execute_result"
    }
   ],
   "source": [
    "Ret_Pregunta09()"
   ]
  },
  {
   "cell_type": "code",
   "execution_count": null,
   "metadata": {},
   "outputs": [],
   "source": [
    "def Ret_Pregunta10(lista):\n",
    "    '''\n",
    "    Esta función recibe como parámetro un objeto de la clase Lista() definida en el archivo Lista.py.\n",
    "    Debe recorrer la lista y retornan la cantidad de nodos que posee. Utilizar el método de la clase\n",
    "    Lista llamado getCabecera()\n",
    "    Ejemplo:\n",
    "        lis = Lista()\n",
    "        lista.agregarElemento(1)\n",
    "        lista.agregarElemento(2)\n",
    "        lista.agregarElemento(3)\n",
    "        print(Ret_Pregunta10(lista))\n",
    "            3    -> Debe ser el valor devuelto por la función Ret_Pregunta10() en este ejemplo\n",
    "    '''\n",
    "    #Tu código aca:\n",
    "    nodos=0\n",
    "\n",
    "    elemento = lista.getCabecera()\n",
    "\n",
    "    if elemento != None:\n",
    "        nodos = 1\n",
    "    else:\n",
    "        return 0\n",
    "\n",
    "    while elemento.getSiguiente() != None:\n",
    "        elemento = elemento.getSiguiente()\n",
    "        nodos += 1\n",
    "    \n",
    "    return nodos"
   ]
  },
  {
   "cell_type": "code",
   "execution_count": null,
   "metadata": {},
   "outputs": [],
   "source": [
    "Ret_Pregunta10()"
   ]
  }
 ],
 "metadata": {
  "kernelspec": {
   "display_name": "Python 3",
   "language": "python",
   "name": "python3"
  },
  "language_info": {
   "codemirror_mode": {
    "name": "ipython",
    "version": 3
   },
   "file_extension": ".py",
   "mimetype": "text/x-python",
   "name": "python",
   "nbconvert_exporter": "python",
   "pygments_lexer": "ipython3",
   "version": "3.10.1"
  },
  "orig_nbformat": 4,
  "vscode": {
   "interpreter": {
    "hash": "dde125affa51238aa7fe2b45bb5903404e075b970f453e9f914c922b9fc7c42a"
   }
  }
 },
 "nbformat": 4,
 "nbformat_minor": 2
}
