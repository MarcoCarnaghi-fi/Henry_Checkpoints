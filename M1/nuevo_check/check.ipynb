{
 "cells": [
  {
   "cell_type": "code",
   "execution_count": 75,
   "metadata": {},
   "outputs": [],
   "source": [
    "from xml.dom.minidom import Entity\n",
    "import pandas as pd\n",
    "import numpy as np"
   ]
  },
  {
   "cell_type": "code",
   "execution_count": 76,
   "metadata": {},
   "outputs": [
    {
     "data": {
      "text/plain": [
       "202185.8933"
      ]
     },
     "execution_count": 76,
     "metadata": {},
     "output_type": "execute_result"
    }
   ],
   "source": [
    "def Ret_Pregunta01():\n",
    "    '''\n",
    "    Debes utilizar Pandas para ingestar en un objeto Dataframe el contenido del archivo provisto \n",
    "    \"GGAL - Cotizaciones historicas.csv\". Este csv contiene información de cotización de la \n",
    "    acción del Banco Galciia SA. Esta función debe tomar la columna máximo y \n",
    "    devolver la suma de los valores de esta, con 4 decimales después de la coma, redondeado.\n",
    "    '''\n",
    "    #Tu código aca: \n",
    "    df = pd.read_csv(\"./datasets/GGAL - Cotizaciones historicas.csv\")\n",
    "\n",
    "    return round(df[\"maximo\"].sum(), 4)\n",
    "\n",
    "Ret_Pregunta01()"
   ]
  },
  {
   "cell_type": "code",
   "execution_count": 87,
   "metadata": {},
   "outputs": [
    {
     "name": "stdout",
     "output_type": "stream",
     "text": [
      "     especie       fecha  apertura  maximo  minimo     cierre  volumen  \\\n",
      "5977    GGAL  17/03/2015     30.25   31.20   30.05   30.90000  1501922   \n",
      "5978    GGAL  18/03/2015     30.50   31.35   29.90   31.00000  1052459   \n",
      "5979    GGAL  19/03/2015     31.00   31.40   29.55   30.50000  2245342   \n",
      "5980    GGAL  20/03/2015     30.50   31.25   30.50   30.60000   917267   \n",
      "6127    GGAL  26/10/2015     34.00   34.90   31.80   33.15000  3204462   \n",
      "...      ...         ...       ...     ...     ...        ...      ...   \n",
      "7762    GGAL  15/07/2022    181.80  190.80  181.50  190.64999   827528   \n",
      "7763    GGAL  18/07/2022    193.00  195.75  192.50  193.89999   929353   \n",
      "7764    GGAL  19/07/2022    196.00  196.50  192.00  194.05000   844566   \n",
      "7765    GGAL  20/07/2022    193.00  193.00  188.55  189.14999  2648143   \n",
      "7766    GGAL  21/07/2022    189.25  201.00  186.10  199.35001  1827159   \n",
      "\n",
      "       timestamp  \n",
      "5977  1426561200  \n",
      "5978  1426647600  \n",
      "5979  1426734000  \n",
      "5980  1426820400  \n",
      "6127  1445828400  \n",
      "...          ...  \n",
      "7762  1657854000  \n",
      "7763  1658113200  \n",
      "7764  1658199600  \n",
      "7765  1658286000  \n",
      "7766  1658372400  \n",
      "\n",
      "[1566 rows x 8 columns]\n"
     ]
    }
   ],
   "source": [
    "def Ret_Pregunta02(precio_min, precio_max):\n",
    "    '''\n",
    "    Debes utilizar Pandas para ingestar en un objeto Dataframe el contenido del archivo provisto \n",
    "    \"GGAL - Cotizaciones historicas.csv\". Este csv contiene información de cotización de la \n",
    "    acción del Banco Galciia SA.\n",
    "    Esta función toma como argumentos un precio mínimo y un precio máximo cualquiera sea y\n",
    "    devuelve el promedio correspondiente a la columna \"cierre\" del conjunto resultante\n",
    "    entre [precio_min, precio_max] filtrando por la columna \"apertura\", con 2 decimales después del punto.\n",
    "    PISTA: usar una máscara sobre la columna \"apertura\" y después hacer los cálculos\n",
    "    sobre la columna \"cierre\"\n",
    "    '''\n",
    "    #Tu código aca:\n",
    "    df = pd.read_csv(\"./datasets/GGAL - Cotizaciones historicas.csv\")\n",
    "    apertura = df[(df[\"apertura\"] > precio_min) & (df[\"apertura\"] < precio_max)]\n",
    "    \n",
    "\n",
    "    return df\n",
    "\n",
    "print(Ret_Pregunta02(30, 200))"
   ]
  },
  {
   "cell_type": "code",
   "execution_count": 78,
   "metadata": {},
   "outputs": [
    {
     "data": {
      "text/html": [
       "<div>\n",
       "<style scoped>\n",
       "    .dataframe tbody tr th:only-of-type {\n",
       "        vertical-align: middle;\n",
       "    }\n",
       "\n",
       "    .dataframe tbody tr th {\n",
       "        vertical-align: top;\n",
       "    }\n",
       "\n",
       "    .dataframe thead th {\n",
       "        text-align: right;\n",
       "    }\n",
       "</style>\n",
       "<table border=\"1\" class=\"dataframe\">\n",
       "  <thead>\n",
       "    <tr style=\"text-align: right;\">\n",
       "      <th></th>\n",
       "      <th>especie</th>\n",
       "      <th>fecha</th>\n",
       "      <th>apertura</th>\n",
       "      <th>maximo</th>\n",
       "      <th>minimo</th>\n",
       "      <th>cierre</th>\n",
       "      <th>volumen</th>\n",
       "      <th>timestamp</th>\n",
       "    </tr>\n",
       "  </thead>\n",
       "  <tbody>\n",
       "    <tr>\n",
       "      <th>0</th>\n",
       "      <td>GGAL</td>\n",
       "      <td>02/01/1991</td>\n",
       "      <td>0.02338</td>\n",
       "      <td>0.02338</td>\n",
       "      <td>0.02313</td>\n",
       "      <td>0.02338</td>\n",
       "      <td>0</td>\n",
       "      <td>662781600</td>\n",
       "    </tr>\n",
       "    <tr>\n",
       "      <th>1</th>\n",
       "      <td>GGAL</td>\n",
       "      <td>03/01/1991</td>\n",
       "      <td>0.02289</td>\n",
       "      <td>0.02289</td>\n",
       "      <td>0.02251</td>\n",
       "      <td>0.02289</td>\n",
       "      <td>0</td>\n",
       "      <td>662868000</td>\n",
       "    </tr>\n",
       "    <tr>\n",
       "      <th>2</th>\n",
       "      <td>GGAL</td>\n",
       "      <td>04/01/1991</td>\n",
       "      <td>0.02251</td>\n",
       "      <td>0.02289</td>\n",
       "      <td>0.02251</td>\n",
       "      <td>0.02251</td>\n",
       "      <td>0</td>\n",
       "      <td>662954400</td>\n",
       "    </tr>\n",
       "    <tr>\n",
       "      <th>3</th>\n",
       "      <td>GGAL</td>\n",
       "      <td>07/01/1991</td>\n",
       "      <td>0.02202</td>\n",
       "      <td>0.02202</td>\n",
       "      <td>0.02202</td>\n",
       "      <td>0.02202</td>\n",
       "      <td>0</td>\n",
       "      <td>663213600</td>\n",
       "    </tr>\n",
       "    <tr>\n",
       "      <th>4</th>\n",
       "      <td>GGAL</td>\n",
       "      <td>08/01/1991</td>\n",
       "      <td>0.02128</td>\n",
       "      <td>0.02177</td>\n",
       "      <td>0.02128</td>\n",
       "      <td>0.02128</td>\n",
       "      <td>0</td>\n",
       "      <td>663300000</td>\n",
       "    </tr>\n",
       "    <tr>\n",
       "      <th>...</th>\n",
       "      <td>...</td>\n",
       "      <td>...</td>\n",
       "      <td>...</td>\n",
       "      <td>...</td>\n",
       "      <td>...</td>\n",
       "      <td>...</td>\n",
       "      <td>...</td>\n",
       "      <td>...</td>\n",
       "    </tr>\n",
       "    <tr>\n",
       "      <th>7774</th>\n",
       "      <td>GGAL</td>\n",
       "      <td>02/08/2022</td>\n",
       "      <td>213.30000</td>\n",
       "      <td>226.00000</td>\n",
       "      <td>213.30000</td>\n",
       "      <td>225.85001</td>\n",
       "      <td>2656873</td>\n",
       "      <td>1659409200</td>\n",
       "    </tr>\n",
       "    <tr>\n",
       "      <th>7775</th>\n",
       "      <td>GGAL</td>\n",
       "      <td>03/08/2022</td>\n",
       "      <td>227.00000</td>\n",
       "      <td>228.80000</td>\n",
       "      <td>221.00000</td>\n",
       "      <td>225.60001</td>\n",
       "      <td>1363536</td>\n",
       "      <td>1659495600</td>\n",
       "    </tr>\n",
       "    <tr>\n",
       "      <th>7776</th>\n",
       "      <td>GGAL</td>\n",
       "      <td>04/08/2022</td>\n",
       "      <td>228.39999</td>\n",
       "      <td>230.90000</td>\n",
       "      <td>220.50000</td>\n",
       "      <td>223.35001</td>\n",
       "      <td>2377323</td>\n",
       "      <td>1659582000</td>\n",
       "    </tr>\n",
       "    <tr>\n",
       "      <th>7777</th>\n",
       "      <td>GGAL</td>\n",
       "      <td>05/08/2022</td>\n",
       "      <td>225.00000</td>\n",
       "      <td>227.50000</td>\n",
       "      <td>221.50000</td>\n",
       "      <td>222.20000</td>\n",
       "      <td>1111195</td>\n",
       "      <td>1659668400</td>\n",
       "    </tr>\n",
       "    <tr>\n",
       "      <th>7778</th>\n",
       "      <td>GGAL</td>\n",
       "      <td>08/08/2022</td>\n",
       "      <td>226.39999</td>\n",
       "      <td>228.85000</td>\n",
       "      <td>222.00000</td>\n",
       "      <td>228.35001</td>\n",
       "      <td>1161617</td>\n",
       "      <td>1659927600</td>\n",
       "    </tr>\n",
       "  </tbody>\n",
       "</table>\n",
       "<p>7779 rows × 8 columns</p>\n",
       "</div>"
      ],
      "text/plain": [
       "     especie       fecha   apertura     maximo     minimo     cierre  volumen  \\\n",
       "0       GGAL  02/01/1991    0.02338    0.02338    0.02313    0.02338        0   \n",
       "1       GGAL  03/01/1991    0.02289    0.02289    0.02251    0.02289        0   \n",
       "2       GGAL  04/01/1991    0.02251    0.02289    0.02251    0.02251        0   \n",
       "3       GGAL  07/01/1991    0.02202    0.02202    0.02202    0.02202        0   \n",
       "4       GGAL  08/01/1991    0.02128    0.02177    0.02128    0.02128        0   \n",
       "...      ...         ...        ...        ...        ...        ...      ...   \n",
       "7774    GGAL  02/08/2022  213.30000  226.00000  213.30000  225.85001  2656873   \n",
       "7775    GGAL  03/08/2022  227.00000  228.80000  221.00000  225.60001  1363536   \n",
       "7776    GGAL  04/08/2022  228.39999  230.90000  220.50000  223.35001  2377323   \n",
       "7777    GGAL  05/08/2022  225.00000  227.50000  221.50000  222.20000  1111195   \n",
       "7778    GGAL  08/08/2022  226.39999  228.85000  222.00000  228.35001  1161617   \n",
       "\n",
       "       timestamp  \n",
       "0      662781600  \n",
       "1      662868000  \n",
       "2      662954400  \n",
       "3      663213600  \n",
       "4      663300000  \n",
       "...          ...  \n",
       "7774  1659409200  \n",
       "7775  1659495600  \n",
       "7776  1659582000  \n",
       "7777  1659668400  \n",
       "7778  1659927600  \n",
       "\n",
       "[7779 rows x 8 columns]"
      ]
     },
     "execution_count": 78,
     "metadata": {},
     "output_type": "execute_result"
    }
   ],
   "source": [
    "df = pd.read_csv(\"./datasets/GGAL - Cotizaciones historicas.csv\")\n",
    "df"
   ]
  },
  {
   "cell_type": "code",
   "execution_count": 88,
   "metadata": {},
   "outputs": [
    {
     "data": {
      "text/plain": [
       "55"
      ]
     },
     "execution_count": 88,
     "metadata": {},
     "output_type": "execute_result"
    }
   ],
   "source": [
    "def Ret_Pregunta03():\n",
    "    '''\n",
    "    Debes utilizar Pandas para ingestar en un objeto Dataframe el contenido del archivo provisto\n",
    "    \"Fuentes_Consumo_Energia.csv\".\n",
    "    Esta función debe informar la cantidad de registros únicos de la columna Year sin tener en cuenta aquellos con valores faltantes\n",
    "    retornando ese valor en un dato de tipo entero.\n",
    "    '''\n",
    "    #Tu código aca:\n",
    "    df = pd.read_csv(\"./datasets/Fuentes_Consumo_Energia.csv\")\n",
    "\n",
    "    return len(df[\"Year\"].dropna().unique())\n",
    "\n",
    "Ret_Pregunta03()"
   ]
  },
  {
   "cell_type": "code",
   "execution_count": 80,
   "metadata": {},
   "outputs": [
    {
     "data": {
      "text/plain": [
       "5190"
      ]
     },
     "execution_count": 80,
     "metadata": {},
     "output_type": "execute_result"
    }
   ],
   "source": [
    "def Ret_Pregunta04():\n",
    "    '''\n",
    "    Debes utilizar Pandas para ingestar en un objeto Dataframe el contenido del archivo provisto \n",
    "    \"Fuentes_Consumo_Energia.csv\".\n",
    "    Esta función debe informar la cantidad de registros retornando ese valor en un dato de tipo entero.\n",
    "    '''\n",
    "    #Tu código aca:\n",
    "    df = pd.read_csv(\"./datasets/Fuentes_Consumo_Energia.csv\")\n",
    "\n",
    "    return df.shape[0]\n",
    "\n",
    "Ret_Pregunta04()"
   ]
  },
  {
   "cell_type": "code",
   "execution_count": 81,
   "metadata": {},
   "outputs": [
    {
     "data": {
      "text/plain": [
       "263.9"
      ]
     },
     "execution_count": 81,
     "metadata": {},
     "output_type": "execute_result"
    }
   ],
   "source": [
    "def Ret_Pregunta05():\n",
    "    '''\n",
    "        Debes utilizar Pandas para ingestar en un objeto Dataframe el contenido del archivo provisto \n",
    "    \"GGAL - Cotizaciones historicas.csv\". Este csv contiene información de cotización de la \n",
    "    acción del Banco Galciia SA. Crear una nueva columna, llamada \"variacion\", que registre\n",
    "    las variaciones de la columna \"máximo\". La función debe devolver el valor máximo de la \n",
    "    columna \"variacion\". \n",
    "    '''\n",
    "    #Tu código aca:\n",
    "    df = pd.read_csv(\"./datasets/GGAL - Cotizaciones historicas.csv\")\n",
    "\n",
    "    df[\"variacion\"] = df[\"maximo\"] - df[\"maximo\"][0]\n",
    "\n",
    "    return round(df[\"variacion\"].max(), 1)\n",
    "\n",
    "Ret_Pregunta05()"
   ]
  },
  {
   "cell_type": "code",
   "execution_count": 82,
   "metadata": {},
   "outputs": [
    {
     "data": {
      "text/plain": [
       "True"
      ]
     },
     "execution_count": 82,
     "metadata": {},
     "output_type": "execute_result"
    }
   ],
   "source": [
    "def Ret_Pregunta06(m1, m2, m3):\n",
    "    '''\n",
    "    Esta función recibe tres array de Numpy, cada uno de dimensión 2, y devuelve el valor booleano\n",
    "    True si es posible realizar una multiplicación entre las tres matrices (n1 x n2 x n3),\n",
    "    y el valor booleano False si no lo es\n",
    "    Ej:\n",
    "        n1 = np.array([[0,0,0],[1,1,1],[2,2,2]])\n",
    "        n2 = np.array([[3,3],[4,4],[5,5]])\n",
    "        n3 = np.array([1,1],[2,2])\n",
    "        print(Ret_Pregunta06(n1,n2,n3))\n",
    "            True            -> Valor devuelto por la función en este ejemplo\n",
    "        print(Ret_Pregunta06(n2,n1,n3))\n",
    "            False            -> Valor devuelto por la función en este ejemplo\n",
    "    '''\n",
    "    #Tu código aca:\n",
    "    if (m1.shape[1] == m2.shape[0]):\n",
    "        if (np.dot(m1, m2).shape[1] == m3.shape[0]):\n",
    "            return True\n",
    "    \n",
    "    return False\n",
    "\n",
    "n1 = np.array([[0,0,0],[1,1,1],[2,2,2],[3,3,3],[4,4,4],[5,5,5]])\n",
    "n2 = np.array([[6,7],[8,6],[7,8]])\n",
    "n3 = np.array([[9,9],[10,10]])\n",
    "Ret_Pregunta06(n1, n2, n3)"
   ]
  },
  {
   "cell_type": "code",
   "execution_count": 83,
   "metadata": {},
   "outputs": [
    {
     "data": {
      "text/plain": [
       "'Colombia'"
      ]
     },
     "execution_count": 83,
     "metadata": {},
     "output_type": "execute_result"
    }
   ],
   "source": [
    "def Ret_Pregunta07():\n",
    "    '''\n",
    "    Debes utilizar Pandas para ingestar en un objeto Dataframe el contenido del archivo provisto\n",
    "    \"Fuentes_Consumo_Energia.csv\".\n",
    "    Esta función debe informar cuál de la siguiente lista de países tuvo mayor generacíon de\n",
    "    energía hìdrica (Hydro_Generation_TWh) en el año 2017:\n",
    "        * Argentina\n",
    "        * Germany\n",
    "        * Chile\n",
    "        * Colombia\n",
    "        * Ecuador\n",
    "        * Mexico\n",
    "        * Peru\n",
    "    Debe retornar el valor en un dato de tipo string.\n",
    "    '''\n",
    "    #Tu código aca:\n",
    "    df = pd.read_csv(\"./datasets/Fuentes_Consumo_Energia.csv\")\n",
    "    paises = [\"Argentina\", \"Germany\", \"Chile\", \"Colombia\", \"Ecuador\", \"Mexico\", \"Peru\"]\n",
    "    df = df[(df[\"Entity\"].isin(paises)) & (df[\"Year\"] == 2017)]\n",
    "    indice = df[\"Hydro_Generation_TWh\"].idxmax()\n",
    "\n",
    "    return df[\"Entity\"][indice]\n",
    "\n",
    "Ret_Pregunta07()"
   ]
  },
  {
   "cell_type": "code",
   "execution_count": 84,
   "metadata": {},
   "outputs": [
    {
     "data": {
      "text/plain": [
       "(194.34, 194.33)"
      ]
     },
     "execution_count": 84,
     "metadata": {},
     "output_type": "execute_result"
    }
   ],
   "source": [
    "def Ret_Pregunta08():\n",
    "    '''\n",
    "        Debes utilizar Pandas para ingestar en un objeto Dataframe el contenido del archivo provisto \n",
    "    \"GGAL - Cotizaciones historicas.csv\". Este csv contiene información de cotización de la \n",
    "    acción del Banco Galciia SA.\n",
    "    Esta función debe calcular el promedio tomando los últimos 100 datos de las columnas \"apertura\"\n",
    "    y \"cierre\", en ese orden, y retornar los dos valores en forma de tupla. Usar dos decimales después\n",
    "    del punto y redondear de ser necesario.\n",
    "    '''\n",
    "    #Tu código aca:\n",
    "    df = pd.read_csv(\"./datasets/GGAL - Cotizaciones historicas.csv\")\n",
    "    apertura = sum(df[\"apertura\"].tail(100)/100)\n",
    "    cierre = sum(df[\"cierre\"].tail(100)/100)\n",
    "\n",
    "    return (round(apertura, 2), round(cierre, 2))\n",
    "\n",
    "Ret_Pregunta08()"
   ]
  },
  {
   "cell_type": "code",
   "execution_count": 85,
   "metadata": {},
   "outputs": [
    {
     "data": {
      "text/plain": [
       "93087.62"
      ]
     },
     "execution_count": 85,
     "metadata": {},
     "output_type": "execute_result"
    }
   ],
   "source": [
    "def Ret_Pregunta09():\n",
    "    '''\n",
    "    Debes utilizar Pandas para ingestar en un objeto Dataframe el contenido del archivo provisto\n",
    "    \"Fuentes_Consumo_Energia.csv\".\n",
    "    Esta función debe la mayor cantidad, en TWh, de energía nuclear generada, agrupando según entidad.\n",
    "    Use dos decimales después del punto.\n",
    "    '''\n",
    "    #Tu código aca:\n",
    "    df = pd.read_csv(\"./datasets/Fuentes_Consumo_Energia.csv\")\n",
    "    suma_energia = df.groupby(df[\"Entity\"])['Nuclear_Generation_TWh'].sum()\n",
    "    indice = suma_energia.idxmax()\n",
    "    return round(suma_energia[indice], 2)\n",
    "\n",
    "Ret_Pregunta09()"
   ]
  },
  {
   "cell_type": "code",
   "execution_count": 86,
   "metadata": {},
   "outputs": [
    {
     "ename": "TypeError",
     "evalue": "Ret_Pregunta10() missing 1 required positional argument: 'lista'",
     "output_type": "error",
     "traceback": [
      "\u001b[1;31m---------------------------------------------------------------------------\u001b[0m",
      "\u001b[1;31mTypeError\u001b[0m                                 Traceback (most recent call last)",
      "Cell \u001b[1;32mIn[86], line 24\u001b[0m\n\u001b[0;32m     21\u001b[0m         a \u001b[39m=\u001b[39m a\u001b[39m.\u001b[39mgetSiguiente()\n\u001b[0;32m     22\u001b[0m     \u001b[39mreturn\u001b[39;00m x\n\u001b[1;32m---> 24\u001b[0m Ret_Pregunta10()\n",
      "\u001b[1;31mTypeError\u001b[0m: Ret_Pregunta10() missing 1 required positional argument: 'lista'"
     ]
    }
   ],
   "source": [
    "def Ret_Pregunta10(lista):\n",
    "    '''\n",
    "    Esta función recibe como parámetro un objeto de la clase Lista() definida en el archivo Lista.py.\n",
    "    Debe recorrer la lista y retornan la cantidad de nodos que posee. Utilizar el método de la clase\n",
    "    Lista llamado getCabecera()\n",
    "    Ejemplo:\n",
    "        lis = Lista()\n",
    "        lista.agregarElemento(1)\n",
    "        lista.agregarElemento(2)\n",
    "        lista.agregarElemento(3)\n",
    "        print(Ret_Pregunta10(lista))\n",
    "            3    -> Debe ser el valor devuelto por la función Ret_Pregunta10() en este ejemplo\n",
    "    '''\n",
    "    #Tu código aca:\n",
    "    x = 0\n",
    "    a = lista.getCabecera()\n",
    "    if a:\n",
    "        x = 1\n",
    "    while a.getSiguiente():\n",
    "        x+=1\n",
    "        a = a.getSiguiente()\n",
    "    return x\n",
    "\n",
    "Ret_Pregunta10()"
   ]
  }
 ],
 "metadata": {
  "kernelspec": {
   "display_name": "Python 3",
   "language": "python",
   "name": "python3"
  },
  "language_info": {
   "codemirror_mode": {
    "name": "ipython",
    "version": 3
   },
   "file_extension": ".py",
   "mimetype": "text/x-python",
   "name": "python",
   "nbconvert_exporter": "python",
   "pygments_lexer": "ipython3",
   "version": "3.10.1"
  },
  "orig_nbformat": 4,
  "vscode": {
   "interpreter": {
    "hash": "dde125affa51238aa7fe2b45bb5903404e075b970f453e9f914c922b9fc7c42a"
   }
  }
 },
 "nbformat": 4,
 "nbformat_minor": 2
}
